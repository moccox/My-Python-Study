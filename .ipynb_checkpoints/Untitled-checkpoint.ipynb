{
 "cells": [
  {
   "cell_type": "markdown",
   "metadata": {},
   "source": [
    "# 关于Python语言与其他语言的区别（以C语言为例）\n",
    "   "
   ]
  },
  {
   "cell_type": "markdown",
   "metadata": {},
   "source": [
    "### 1.输入输出\n"
   ]
  },
  {
   "cell_type": "markdown",
   "metadata": {},
   "source": [
    "#### 在C语言中，要输入一个整型变量并将其输出，语法如下："
   ]
  },
  {
   "cell_type": "code",
   "execution_count": null,
   "metadata": {},
   "outputs": [],
   "source": [
    "int i;\n",
    "printf(\"请输入一个整型变量\\n\");\n",
    "scanf_s(\"%d\",&i);\n",
    "printf(\"%d\",i);"
   ]
  },
  {
   "cell_type": "markdown",
   "metadata": {},
   "source": [
    "#### 在Python语言中，要输入一个整型变量并将其输出，语法如下："
   ]
  },
  {
   "cell_type": "code",
   "execution_count": null,
   "metadata": {
    "scrolled": false
   },
   "outputs": [],
   "source": [
    "i=input('请输入一个整型变量\\n')\n",
    "x=int(i)\n",
    "print(i)"
   ]
  },
  {
   "cell_type": "markdown",
   "metadata": {},
   "source": [
    "### 2.注释\n"
   ]
  },
  {
   "cell_type": "markdown",
   "metadata": {},
   "source": [
    "C语言中，行注释用 // ，块注释用 /**/"
   ]
  },
  {
   "cell_type": "code",
   "execution_count": null,
   "metadata": {},
   "outputs": [],
   "source": [
    "//C语言注释一行\n",
    "\n",
    "/*\n",
    "C语言\n",
    "注释多行\n",
    "*/"
   ]
  },
  {
   "cell_type": "markdown",
   "metadata": {},
   "source": [
    "Python语言中，行注释用 #，块注释用 ''''''"
   ]
  },
  {
   "cell_type": "code",
   "execution_count": null,
   "metadata": {},
   "outputs": [],
   "source": [
    "#Python语言注释一行\n",
    "\n",
    "'''\n",
    "Python\n",
    "注释多行\n",
    "'''"
   ]
  },
  {
   "cell_type": "markdown",
   "metadata": {},
   "source": [
    "#### 3.变量\n"
   ]
  },
  {
   "cell_type": "markdown",
   "metadata": {},
   "source": [
    "C语言中的变量数据类型\n",
    " - 整型变量：分有符号和无符号两种，又分短整型（short int）、整型（int）、长整型（long int） 有各自的取值范围 \n",
    " - 浮点型变量：根据精度不同分为单精度浮点数（float）和双精度浮点数（double）两种，单精度浮点数只提供6~7位有效位，双精度浮点数提供15~16位有效                  位，两种浮点数根据取值范围亦有短、普通、长三种类别\n",
    " - 字符型变量 char  字符串用char[]表示 （在C++中新增了字符串String类，用于定义字符串变量） \n",
    " - 枚举型变量 enum （感觉用法跟多个#defined差不多）\n",
    " - 自定义的结构体 struct\n",
    " - C++中还有布尔型 bool\n",
    "\n",
    "Python语言中的变量数据类型\n",
    " - 数字类型 Number 没有整型浮点型之分，也没有取值范围（只要电脑内存承担得起，取多大值都行），只有进制之分（二进制0b 八进制0o 十六进制0x）\n",
    " - 字符串类型 str 可用单引号、双引号、三引号扩起，单双引号用在多个引号的使用，三引号用来表示多行的字符串（亦可用来表示块注释）\n",
    " - 列表 list\n",
    " - 元组 tuple\n",
    " - 字典 Dictionary\n",
    " - 集合 set\n",
    " "
   ]
  },
  {
   "cell_type": "markdown",
   "metadata": {},
   "source": [
    "Python变量用法："
   ]
  },
  {
   "cell_type": "code",
   "execution_count": 1,
   "metadata": {},
   "outputs": [
    {
     "name": "stdout",
     "output_type": "stream",
     "text": [
      "10\n",
      "1.2\n",
      "2\n",
      "0.3\n",
      "hahaha\n",
      "啦啦啦\n",
      "<a style=\"color:red\">嗨~</a>\n",
      "\n",
      "ooo\n",
      "哈\n",
      "哈\n",
      "哈\n",
      "000\n",
      "\n"
     ]
    }
   ],
   "source": [
    "a=10 #整型\n",
    "print(a)\n",
    "\n",
    "b=1.2 #浮点型\n",
    "print(b)\n",
    "\n",
    "c=0b0010\n",
    "print(c)\n",
    "\n",
    "d=3e-1\n",
    "print(d)\n",
    "\n",
    "e=\"hahaha\" #字符串\n",
    "print(e)\n",
    "\n",
    "f='啦啦啦'\n",
    "print(f)\n",
    "\n",
    "g='<a style=\"color:red\">嗨~</a>'\n",
    "print(g)\n",
    "\n",
    "h='''\n",
    "哈\n",
    "哈\n",
    "哈\n",
    "'''\n",
    "print(h)"
   ]
  }
 ],
 "metadata": {
  "kernelspec": {
   "display_name": "Python 3",
   "language": "python",
   "name": "python3"
  },
  "language_info": {
   "codemirror_mode": {
    "name": "ipython",
    "version": 3
   },
   "file_extension": ".py",
   "mimetype": "text/x-python",
   "name": "python",
   "nbconvert_exporter": "python",
   "pygments_lexer": "ipython3",
   "version": "3.6.4"
  }
 },
 "nbformat": 4,
 "nbformat_minor": 2
}
